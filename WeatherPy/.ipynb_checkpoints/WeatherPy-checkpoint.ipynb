{
 "cells": [
  {
   "cell_type": "markdown",
   "metadata": {},
   "source": [
    "# WeatherPy\n",
    "----\n",
    "\n",
    "#### Note\n",
    "* Instructions have been included for each segment. You do not have to follow them exactly, but they are included to help you think through the steps."
   ]
  },
  {
   "cell_type": "code",
   "execution_count": 48,
   "metadata": {
    "scrolled": true
   },
   "outputs": [],
   "source": [
    "# Dependencies and Setup\n",
    "import matplotlib.pyplot as plt\n",
    "import pandas as pd\n",
    "import numpy as np\n",
    "import requests\n",
    "import time\n",
    "import scipy.stats as stats\n",
    "\n",
    "# Import API key\n",
    "from config import api_key\n",
    "\n",
    "# Incorporated citipy to determine city based on latitude and longitude\n",
    "from citipy import citipy\n",
    "\n",
    "# Output File (CSV)\n",
    "output_data_file = \"output_data/cities.csv\"\n",
    "\n",
    "# Range of latitudes and longitudes\n",
    "lat_range = (-90, 90)\n",
    "lng_range = (-180, 180)"
   ]
  },
  {
   "cell_type": "markdown",
   "metadata": {},
   "source": [
    "## Generate Cities List"
   ]
  },
  {
   "cell_type": "code",
   "execution_count": 49,
   "metadata": {},
   "outputs": [
    {
     "data": {
      "text/plain": [
       "606"
      ]
     },
     "execution_count": 49,
     "metadata": {},
     "output_type": "execute_result"
    }
   ],
   "source": [
    "# List for holding lat_lngs and cities\n",
    "lat_lngs = []\n",
    "cities = []\n",
    "\n",
    "# Create a set of random lat and lng combinations\n",
    "lats = np.random.uniform(lat_range[0], lat_range[1], size=1500)\n",
    "lngs = np.random.uniform(lng_range[0], lng_range[1], size=1500)\n",
    "lat_lngs = zip(lats, lngs)\n",
    "\n",
    "# Identify nearest city for each lat, lng combination\n",
    "for lat_lng in lat_lngs:\n",
    "    city = citipy.nearest_city(lat_lng[0], lat_lng[1]).city_name\n",
    "    \n",
    "    # If the city is unique, then add it to a our cities list\n",
    "    if city not in cities:\n",
    "        cities.append(city)\n",
    "\n",
    "# Print the city count to confirm sufficient count\n",
    "len(cities)"
   ]
  },
  {
   "cell_type": "markdown",
   "metadata": {},
   "source": [
    "### Perform API Calls\n",
    "* Perform a weather check on each city using a series of successive API calls.\n",
    "* Include a print log of each city as it'sbeing processed (with the city number and city name).\n"
   ]
  },
  {
   "cell_type": "code",
   "execution_count": 50,
   "metadata": {
    "scrolled": true
   },
   "outputs": [
    {
     "name": "stdout",
     "output_type": "stream",
     "text": [
      "Beginning Data Retrieval\n",
      "--------------------------\n",
      "Processing Record 1 | morris\n",
      "Processing Record 2 | jumla\n",
      "Processing Record 3 | brae\n",
      "Processing Record 4 | beloha\n",
      "Processing Record 5 | kiama\n",
      "Processing Record 6 | cepu\n",
      "Processing Record 7 | pevek\n",
      "Processing Record 8 | esperance\n",
      "Processing Record 9 | tiksi\n",
      "Processing Record 10 | hilo\n",
      "Processing Record 11 | kahului\n",
      "Processing Record 12 | mar del plata\n",
      "Processing Record 13 | gostivar\n",
      "Processing Record 14 | atuona\n",
      "Processing Record 15 | ribeira grande\n",
      "Processing Record 16 | port alfred\n",
      "Processing Record 17 | avarua\n",
      "Processing Record 18 | chokurdakh\n",
      "Processing Record 19 | puerto ayora\n",
      "Processing Record 20 | derzhavinsk\n",
      "Processing Record 21 | barrow\n",
      "Processing Record 22 | plettenberg bay\n",
      "Processing Record 23 | severo-kurilsk\n",
      "Processing Record 24 | krasnoselkup\n",
      "Processing Record 25 | ushuaia\n",
      "Processing Record 26 | lebu\n",
      "Processing Record 27 | rio brilhante\n",
      "City not found. Skipping...\n",
      "City not found. Skipping...\n",
      "City not found. Skipping...\n",
      "Processing Record 28 | hobart\n",
      "Processing Record 29 | rikitea\n",
      "Processing Record 30 | busselton\n",
      "Processing Record 31 | castro\n",
      "City not found. Skipping...\n",
      "Processing Record 32 | guerrero negro\n",
      "Processing Record 33 | talnakh\n",
      "Processing Record 34 | vardo\n",
      "Processing Record 35 | mataura\n",
      "Processing Record 36 | vaini\n",
      "Processing Record 37 | victoria\n",
      "Processing Record 38 | itaituba\n",
      "Processing Record 39 | hithadhoo\n",
      "Processing Record 40 | lahaina\n",
      "Processing Record 41 | punta arenas\n",
      "City not found. Skipping...\n",
      "Processing Record 42 | yellowknife\n",
      "Processing Record 43 | vestmanna\n",
      "Processing Record 44 | dabhol\n",
      "Processing Record 45 | hasaki\n",
      "Processing Record 46 | pringsewu\n",
      "Processing Record 47 | provideniya\n",
      "City not found. Skipping...\n",
      "Processing Record 48 | hamilton\n",
      "Processing Record 49 | carnarvon\n",
      "Processing Record 50 | stornoway\n",
      "Processing Record 51 | sao filipe\n",
      "Processing Record 52 | padang\n",
      "Processing Record 53 | jadu\n",
      "Processing Record 54 | tuktoyaktuk\n",
      "Processing Record 55 | jamestown\n",
      "Processing Record 56 | tuatapere\n",
      "Processing Record 57 | bethel\n",
      "Processing Record 58 | new norfolk\n",
      "Processing Record 59 | kapoeta\n",
      "Processing Record 60 | tasiilaq\n",
      "Processing Record 61 | toronto\n",
      "City not found. Skipping...\n",
      "Processing Record 62 | saint-philippe\n",
      "Processing Record 63 | ilulissat\n",
      "Processing Record 64 | khatanga\n",
      "Processing Record 65 | malgrat de mar\n",
      "Processing Record 66 | coihaique\n",
      "Processing Record 67 | ust-omchug\n",
      "City not found. Skipping...\n",
      "Processing Record 68 | mayo\n",
      "City not found. Skipping...\n",
      "Processing Record 69 | melsomvik\n",
      "Processing Record 70 | kaitangata\n",
      "Processing Record 71 | carmo do cajuru\n",
      "Processing Record 72 | dubbo\n",
      "Processing Record 73 | havelock\n",
      "Processing Record 74 | comodoro rivadavia\n",
      "Processing Record 75 | lasa\n",
      "Processing Record 76 | cape town\n",
      "Processing Record 77 | sept-iles\n",
      "City not found. Skipping...\n",
      "Processing Record 78 | la ronge\n",
      "Processing Record 79 | along\n",
      "Processing Record 80 | vostok\n",
      "Processing Record 81 | yulara\n",
      "Processing Record 82 | bridlington\n",
      "Processing Record 83 | salinas\n",
      "City not found. Skipping...\n",
      "Processing Record 84 | hermanus\n",
      "Processing Record 85 | cherskiy\n",
      "Processing Record 86 | pinega\n",
      "Processing Record 87 | abu samrah\n",
      "Processing Record 88 | okhotsk\n",
      "City not found. Skipping...\n",
      "Processing Record 89 | bluff\n",
      "Processing Record 90 | clyde river\n",
      "Processing Record 91 | isangel\n",
      "Processing Record 92 | port-gentil\n",
      "Processing Record 93 | abu dhabi\n",
      "Processing Record 94 | monrovia\n",
      "Processing Record 95 | meulaboh\n",
      "Processing Record 96 | ahipara\n",
      "Processing Record 97 | kattivakkam\n",
      "Processing Record 98 | qaanaaq\n",
      "Processing Record 99 | atbasar\n",
      "Processing Record 100 | clearlake\n",
      "Processing Record 101 | saint george\n",
      "Processing Record 102 | kemijarvi\n",
      "Processing Record 103 | codrington\n",
      "Processing Record 104 | aracati\n",
      "Processing Record 105 | inirida\n",
      "Processing Record 106 | kysyl-syr\n",
      "Processing Record 107 | lavrentiya\n",
      "Processing Record 108 | teofilo otoni\n",
      "Processing Record 109 | marinette\n",
      "Processing Record 110 | kavieng\n",
      "Processing Record 111 | mahebourg\n",
      "City not found. Skipping...\n",
      "City not found. Skipping...\n",
      "Processing Record 112 | cayenne\n",
      "Processing Record 113 | torbay\n",
      "Processing Record 114 | road town\n",
      "Processing Record 115 | gbadolite\n",
      "Processing Record 116 | butaritari\n",
      "Processing Record 117 | albany\n",
      "Processing Record 118 | harstad\n",
      "Processing Record 119 | keflavik\n",
      "Processing Record 120 | laguna\n",
      "Processing Record 121 | fortuna\n",
      "Processing Record 122 | huarmey\n",
      "Processing Record 123 | port hardy\n",
      "Processing Record 124 | lukuledi\n",
      "Processing Record 125 | olafsvik\n",
      "Processing Record 126 | san jose de guanipa\n",
      "Processing Record 127 | huntington\n",
      "Processing Record 128 | arraial do cabo\n",
      "Processing Record 129 | bandundu\n",
      "Processing Record 130 | urtenen\n",
      "Processing Record 131 | rock sound\n",
      "Processing Record 132 | gushikawa\n",
      "City not found. Skipping...\n",
      "Processing Record 133 | bambous virieux\n",
      "Processing Record 134 | te anau\n",
      "Processing Record 135 | saskatoon\n",
      "Processing Record 136 | stromness\n",
      "Processing Record 137 | gat\n",
      "Processing Record 138 | norman wells\n",
      "Processing Record 139 | nabire\n",
      "Processing Record 140 | pierre\n",
      "Processing Record 141 | the valley\n",
      "Processing Record 142 | mallur\n",
      "Processing Record 143 | acarau\n",
      "Processing Record 144 | thompson\n",
      "Processing Record 145 | airai\n",
      "Processing Record 146 | georgetown\n",
      "Processing Record 147 | udachnyy\n",
      "Processing Record 148 | shenjiamen\n",
      "Processing Record 149 | kapaa\n",
      "Processing Record 150 | akyab\n",
      "Processing Record 151 | pasighat\n",
      "Processing Record 152 | pangnirtung\n",
      "Processing Record 153 | bengkulu\n",
      "Processing Record 154 | cairo\n",
      "Processing Record 155 | green valley\n",
      "Processing Record 156 | honiara\n",
      "Processing Record 157 | naze\n",
      "Processing Record 158 | floro\n",
      "Processing Record 159 | upernavik\n",
      "Processing Record 160 | mutoko\n",
      "Processing Record 161 | waipawa\n",
      "Processing Record 162 | kruisfontein\n",
      "Processing Record 163 | isiro\n",
      "Processing Record 164 | sitka\n",
      "Processing Record 165 | novyy urgal\n",
      "City not found. Skipping...\n",
      "Processing Record 166 | caibarien\n",
      "Processing Record 167 | tiznit\n",
      "Processing Record 168 | kiruna\n",
      "Processing Record 169 | camacupa\n",
      "Processing Record 170 | sechura\n",
      "Processing Record 171 | oni\n",
      "Processing Record 172 | camocim\n",
      "Processing Record 173 | huilong\n",
      "City not found. Skipping...\n",
      "Processing Record 174 | spring valley\n",
      "Processing Record 175 | sharjah\n",
      "Processing Record 176 | yeppoon\n",
      "Processing Record 177 | ola\n",
      "Processing Record 178 | kimberley\n",
      "Processing Record 179 | alofi\n",
      "City not found. Skipping...\n",
      "Processing Record 180 | bredasdorp\n",
      "Processing Record 181 | port elizabeth\n",
      "Processing Record 182 | itarema\n",
      "Processing Record 183 | samarai\n",
      "Processing Record 184 | poso\n",
      "Processing Record 185 | kavaratti\n",
      "Processing Record 186 | marsh harbour\n",
      "Processing Record 187 | roald\n",
      "Processing Record 188 | eureka\n",
      "Processing Record 189 | sefton\n",
      "Processing Record 190 | ruidoso\n",
      "Processing Record 191 | reitz\n",
      "Processing Record 192 | dingle\n",
      "Processing Record 193 | tateyama\n",
      "Processing Record 194 | mago\n",
      "Processing Record 195 | ulaangom\n",
      "Processing Record 196 | cap malheureux\n",
      "Processing Record 197 | axim\n",
      "Processing Record 198 | east london\n",
      "Processing Record 199 | raga\n",
      "Processing Record 200 | mitchell\n",
      "Processing Record 201 | olinda\n",
      "Processing Record 202 | alyangula\n",
      "Processing Record 203 | ancud\n",
      "Processing Record 204 | dikson\n",
      "Processing Record 205 | rudbar\n",
      "Processing Record 206 | uttarkashi\n",
      "City not found. Skipping...\n",
      "Processing Record 207 | marawi\n",
      "Processing Record 208 | nioro\n",
      "Processing Record 209 | mpika\n",
      "Processing Record 210 | hofn\n",
      "Processing Record 211 | canete\n",
      "Processing Record 212 | balkhash\n",
      "Processing Record 213 | usak\n",
      "Processing Record 214 | umba\n",
      "Processing Record 215 | kijang\n",
      "Processing Record 216 | merauke\n",
      "Processing Record 217 | broome\n",
      "Processing Record 218 | zhuhai\n",
      "Processing Record 219 | berbera\n",
      "Processing Record 220 | broken hill\n",
      "Processing Record 221 | belmonte\n",
      "Processing Record 222 | harbour breton\n",
      "Processing Record 223 | lagoa\n",
      "Processing Record 224 | inverness\n",
      "Processing Record 225 | san cristobal\n",
      "Processing Record 226 | vila franca do campo\n",
      "Processing Record 227 | narsaq\n",
      "Processing Record 228 | taoudenni\n",
      "Processing Record 229 | soyo\n",
      "Processing Record 230 | tenamaxtlan\n",
      "Processing Record 231 | barra do bugres\n",
      "Processing Record 232 | luderitz\n",
      "Processing Record 233 | berdigestyakh\n",
      "Processing Record 234 | muros\n"
     ]
    },
    {
     "name": "stdout",
     "output_type": "stream",
     "text": [
      "Processing Record 235 | kodiak\n",
      "Processing Record 236 | mineros\n",
      "Processing Record 237 | guilin\n",
      "Processing Record 238 | nikolskoye\n",
      "Processing Record 239 | garden city\n",
      "Processing Record 240 | nome\n",
      "Processing Record 241 | banda aceh\n",
      "Processing Record 242 | evensk\n",
      "City not found. Skipping...\n",
      "Processing Record 243 | faanui\n",
      "Processing Record 244 | mokhsogollokh\n",
      "Processing Record 245 | padre paraiso\n",
      "Processing Record 246 | byron bay\n",
      "Processing Record 247 | sao joao da barra\n",
      "Processing Record 248 | mattru\n",
      "Processing Record 249 | souillac\n",
      "Processing Record 250 | ust-kut\n",
      "Processing Record 251 | dezful\n",
      "Processing Record 252 | gamba\n",
      "City not found. Skipping...\n",
      "Processing Record 253 | katsuura\n",
      "Processing Record 254 | lamballe\n",
      "Processing Record 255 | pacific grove\n",
      "City not found. Skipping...\n",
      "Processing Record 256 | la mesa\n",
      "City not found. Skipping...\n",
      "Processing Record 257 | ngunguru\n",
      "Processing Record 258 | villa carlos paz\n",
      "Processing Record 259 | jensen beach\n",
      "Processing Record 260 | bilma\n",
      "Processing Record 261 | hirara\n",
      "Processing Record 262 | bud\n",
      "Processing Record 263 | osypenko\n",
      "Processing Record 264 | saskylakh\n",
      "Processing Record 265 | darhan\n",
      "Processing Record 266 | egvekinot\n",
      "Processing Record 267 | tay ninh\n",
      "Processing Record 268 | viedma\n",
      "Processing Record 269 | rio grande\n",
      "Processing Record 270 | ponta delgada\n",
      "Processing Record 271 | vodnyy\n",
      "Processing Record 272 | rawson\n",
      "Processing Record 273 | lewiston\n",
      "Processing Record 274 | chimore\n",
      "Processing Record 275 | mgandu\n",
      "Processing Record 276 | gedo\n",
      "Processing Record 277 | methoni\n",
      "Processing Record 278 | tshikapa\n",
      "Processing Record 279 | srivardhan\n",
      "Processing Record 280 | karratha\n",
      "Processing Record 281 | shibetsu\n",
      "Processing Record 282 | bandarbeyla\n",
      "Processing Record 283 | sao felix do xingu\n",
      "Processing Record 284 | mananjary\n",
      "Processing Record 285 | koumac\n",
      "Processing Record 286 | bonthe\n",
      "Processing Record 287 | ostersund\n",
      "Processing Record 288 | bria\n",
      "Processing Record 289 | zhob\n",
      "Processing Record 290 | kamenka\n",
      "Processing Record 291 | bhalwal\n",
      "Processing Record 292 | auki\n",
      "Processing Record 293 | komsomolskiy\n",
      "Processing Record 294 | erzin\n",
      "Processing Record 295 | atar\n",
      "Processing Record 296 | nakamura\n",
      "Processing Record 297 | puerto escondido\n",
      "Processing Record 298 | anadyr\n",
      "Processing Record 299 | punakha\n",
      "Processing Record 300 | poum\n",
      "City not found. Skipping...\n",
      "Processing Record 301 | longyearbyen\n",
      "Processing Record 302 | san patricio\n",
      "Processing Record 303 | leningradskiy\n",
      "Processing Record 304 | altamira\n",
      "Processing Record 305 | mon\n",
      "Processing Record 306 | ostrovnoy\n",
      "Processing Record 307 | vaitape\n",
      "Processing Record 308 | nara\n",
      "Processing Record 309 | chuy\n",
      "Processing Record 310 | skibbereen\n",
      "Processing Record 311 | trelew\n",
      "Processing Record 312 | lumeje\n",
      "Processing Record 313 | hobyo\n",
      "Processing Record 314 | batemans bay\n",
      "Processing Record 315 | necochea\n",
      "Processing Record 316 | amapa\n",
      "Processing Record 317 | miri\n",
      "Processing Record 318 | antalaha\n",
      "Processing Record 319 | aklavik\n",
      "Processing Record 320 | inhambane\n",
      "Processing Record 321 | camana\n",
      "Processing Record 322 | bathsheba\n",
      "Processing Record 323 | callaguip\n",
      "Processing Record 324 | kitovo\n",
      "Processing Record 325 | port hedland\n",
      "Processing Record 326 | puerto padre\n",
      "Processing Record 327 | surgut\n",
      "Processing Record 328 | ust-tsilma\n",
      "City not found. Skipping...\n",
      "Processing Record 329 | mamallapuram\n",
      "Processing Record 330 | vigrestad\n",
      "Processing Record 331 | akhaldaba\n",
      "Processing Record 332 | cockburn town\n",
      "Processing Record 333 | dhidhdhoo\n",
      "Processing Record 334 | presidencia roque saenz pena\n",
      "Processing Record 335 | misratah\n",
      "Processing Record 336 | nizwa\n",
      "Processing Record 337 | peterhead\n",
      "Processing Record 338 | sorland\n",
      "Processing Record 339 | labuhan\n",
      "Processing Record 340 | champerico\n",
      "Processing Record 341 | ondjiva\n",
      "City not found. Skipping...\n",
      "Processing Record 342 | zambezi\n",
      "Processing Record 343 | saldanha\n",
      "Processing Record 344 | maraba\n",
      "Processing Record 345 | husavik\n",
      "Processing Record 346 | kerrville\n",
      "Processing Record 347 | zabid\n",
      "Processing Record 348 | baruun-urt\n",
      "Processing Record 349 | kon tum\n",
      "Processing Record 350 | college\n",
      "Processing Record 351 | constitucion\n",
      "Processing Record 352 | kita\n",
      "Processing Record 353 | kurumkan\n",
      "Processing Record 354 | sovetskiy\n",
      "Processing Record 355 | cairns\n",
      "Processing Record 356 | nirgua\n",
      "Processing Record 357 | guasdualito\n",
      "City not found. Skipping...\n",
      "Processing Record 358 | ukiah\n",
      "Processing Record 359 | yar-sale\n",
      "Processing Record 360 | southbridge\n",
      "Processing Record 361 | pangody\n",
      "Processing Record 362 | verkhnevilyuysk\n",
      "City not found. Skipping...\n",
      "Processing Record 363 | lianzhou\n",
      "Processing Record 364 | eyrarbakki\n",
      "Processing Record 365 | hun\n",
      "Processing Record 366 | ulladulla\n",
      "Processing Record 367 | kharp\n",
      "Processing Record 368 | qasigiannguit\n",
      "Processing Record 369 | belen\n",
      "Processing Record 370 | nishihara\n",
      "Processing Record 371 | bereznehuvate\n",
      "Processing Record 372 | mount isa\n",
      "Processing Record 373 | nanortalik\n",
      "Processing Record 374 | nanzhang\n",
      "Processing Record 375 | touros\n",
      "City not found. Skipping...\n",
      "Processing Record 376 | wewak\n",
      "Processing Record 377 | sur\n",
      "Processing Record 378 | lompoc\n",
      "Processing Record 379 | port macquarie\n",
      "City not found. Skipping...\n",
      "City not found. Skipping...\n",
      "Processing Record 380 | mount gambier\n",
      "Processing Record 381 | kupang\n",
      "City not found. Skipping...\n",
      "Processing Record 382 | price\n",
      "Processing Record 383 | asau\n",
      "Processing Record 384 | ixtapa\n",
      "Processing Record 385 | cabo san lucas\n",
      "Processing Record 386 | santarem\n",
      "Processing Record 387 | vila velha\n",
      "Processing Record 388 | prince rupert\n",
      "Processing Record 389 | prieska\n",
      "Processing Record 390 | bairiki\n",
      "Processing Record 391 | richards bay\n",
      "Processing Record 392 | nemuro\n",
      "Processing Record 393 | aykhal\n",
      "Processing Record 394 | shadrinsk\n",
      "Processing Record 395 | mozarlandia\n",
      "Processing Record 396 | saint-joseph\n",
      "Processing Record 397 | kamina\n",
      "Processing Record 398 | kerikeri\n",
      "Processing Record 399 | grand-lahou\n",
      "Processing Record 400 | sao geraldo do araguaia\n",
      "City not found. Skipping...\n",
      "Processing Record 401 | grindavik\n",
      "Processing Record 402 | san ignacio\n",
      "Processing Record 403 | kindu\n",
      "City not found. Skipping...\n",
      "Processing Record 404 | tarakan\n",
      "Processing Record 405 | midland\n",
      "Processing Record 406 | geilo\n",
      "Processing Record 407 | lenoir city\n",
      "Processing Record 408 | duluth\n",
      "Processing Record 409 | hambantota\n",
      "Processing Record 410 | aden\n",
      "Processing Record 411 | acapulco\n",
      "Processing Record 412 | klaksvik\n",
      "City not found. Skipping...\n",
      "Processing Record 413 | rorvik\n",
      "Processing Record 414 | ulaanbaatar\n",
      "Processing Record 415 | sorong\n",
      "Processing Record 416 | tabou\n",
      "Processing Record 417 | ponta do sol\n",
      "Processing Record 418 | zlatograd\n",
      "Processing Record 419 | manta\n",
      "Processing Record 420 | vestmannaeyjar\n",
      "Processing Record 421 | hualmay\n",
      "City not found. Skipping...\n",
      "Processing Record 422 | picos\n",
      "Processing Record 423 | valparaiso\n",
      "Processing Record 424 | alihe\n",
      "Processing Record 425 | uvinza\n",
      "Processing Record 426 | shu\n",
      "Processing Record 427 | westport\n",
      "Processing Record 428 | lingen\n",
      "Processing Record 429 | qinzhou\n",
      "Processing Record 430 | talaya\n",
      "Processing Record 431 | saint-paul\n",
      "Processing Record 432 | najran\n",
      "Processing Record 433 | bintulu\n",
      "Processing Record 434 | ilo\n",
      "Processing Record 435 | pimentel\n",
      "Processing Record 436 | ambon\n",
      "Processing Record 437 | sayanogorsk\n",
      "Processing Record 438 | svetlograd\n",
      "Processing Record 439 | daimiel\n",
      "Processing Record 440 | saint-georges\n",
      "Processing Record 441 | cidreira\n",
      "Processing Record 442 | morristown\n",
      "Processing Record 443 | quatre cocos\n",
      "Processing Record 444 | baherden\n",
      "Processing Record 445 | chancay\n",
      "City not found. Skipping...\n",
      "Processing Record 446 | zhigansk\n",
      "Processing Record 447 | hovd\n",
      "Processing Record 448 | roebourne\n",
      "Processing Record 449 | socorro\n",
      "Processing Record 450 | garowe\n",
      "Processing Record 451 | oussouye\n",
      "Processing Record 452 | geraldton\n",
      "Processing Record 453 | bhatapara\n",
      "Processing Record 454 | tecozautla\n",
      "City not found. Skipping...\n",
      "Processing Record 455 | sozimskiy\n",
      "Processing Record 456 | aswan\n",
      "Processing Record 457 | nuevo progreso\n",
      "Processing Record 458 | asfi\n",
      "Processing Record 459 | farah\n",
      "Processing Record 460 | caravelas\n",
      "Processing Record 461 | green river\n",
      "Processing Record 462 | qaqortoq\n",
      "Processing Record 463 | palmer\n",
      "Processing Record 464 | nhulunbuy\n",
      "Processing Record 465 | rio gallegos\n",
      "City not found. Skipping...\n"
     ]
    },
    {
     "name": "stdout",
     "output_type": "stream",
     "text": [
      "Processing Record 466 | torit\n",
      "Processing Record 467 | turayf\n",
      "Processing Record 468 | panzhihua\n",
      "Processing Record 469 | belaya gora\n",
      "City not found. Skipping...\n",
      "City not found. Skipping...\n",
      "Processing Record 470 | san estanislao\n",
      "Processing Record 471 | mikhaylovka\n",
      "Processing Record 472 | trinidad\n",
      "Processing Record 473 | wajid\n",
      "Processing Record 474 | rongcheng\n",
      "Processing Record 475 | great falls\n",
      "Processing Record 476 | xingtai\n",
      "Processing Record 477 | elverum\n",
      "Processing Record 478 | maun\n",
      "Processing Record 479 | longhua\n",
      "Processing Record 480 | nantucket\n",
      "Processing Record 481 | teahupoo\n",
      "Processing Record 482 | sorata\n",
      "Processing Record 483 | mackay\n",
      "Processing Record 484 | alice springs\n",
      "Processing Record 485 | matai\n",
      "Processing Record 486 | avera\n",
      "Processing Record 487 | peniche\n",
      "Processing Record 488 | dvinskoy\n",
      "Processing Record 489 | vila do maio\n",
      "Processing Record 490 | riverton\n",
      "Processing Record 491 | boende\n",
      "Processing Record 492 | smithers\n",
      "Processing Record 493 | tevaitoa\n",
      "Processing Record 494 | san juan\n",
      "City not found. Skipping...\n",
      "Processing Record 495 | bajina basta\n",
      "Processing Record 496 | sri aman\n",
      "Processing Record 497 | bonavista\n",
      "Processing Record 498 | korla\n",
      "Processing Record 499 | kanniyakumari\n",
      "Processing Record 500 | corrales\n",
      "Processing Record 501 | kloulklubed\n",
      "Processing Record 502 | bubaque\n",
      "Processing Record 503 | la seyne-sur-mer\n",
      "Processing Record 504 | mahina\n",
      "Processing Record 505 | shahpur\n",
      "Processing Record 506 | kambove\n",
      "Processing Record 507 | teya\n",
      "Processing Record 508 | puerto leguizamo\n",
      "Processing Record 509 | turukhansk\n",
      "Processing Record 510 | goderich\n",
      "Processing Record 511 | portland\n",
      "Processing Record 512 | wanaka\n",
      "Processing Record 513 | aguimes\n",
      "Processing Record 514 | znamenskoye\n",
      "Processing Record 515 | puerto narino\n",
      "Processing Record 516 | ariquemes\n",
      "Processing Record 517 | shemordan\n",
      "Processing Record 518 | vila\n",
      "Processing Record 519 | merritt\n",
      "Processing Record 520 | pisco\n",
      "Processing Record 521 | zeya\n",
      "Processing Record 522 | saint-francois\n",
      "Processing Record 523 | toora-khem\n",
      "Processing Record 524 | sinnamary\n",
      "Processing Record 525 | dunedin\n",
      "Processing Record 526 | visnes\n",
      "Processing Record 527 | natal\n",
      "Processing Record 528 | nouadhibou\n",
      "Processing Record 529 | rocha\n",
      "Processing Record 530 | deputatskiy\n",
      "Processing Record 531 | isla mujeres\n",
      "Processing Record 532 | saint-lo\n",
      "Processing Record 533 | tottenham\n",
      "Processing Record 534 | cravo norte\n",
      "Processing Record 535 | azare\n",
      "Processing Record 536 | myitkyina\n",
      "Processing Record 537 | khandbari\n",
      "Processing Record 538 | monte alegre\n",
      "Processing Record 539 | moshenskoye\n",
      "Processing Record 540 | dillon\n",
      "Processing Record 541 | muli\n",
      "Processing Record 542 | caracollo\n",
      "Processing Record 543 | vanimo\n",
      "Processing Record 544 | maracacume\n",
      "Processing Record 545 | bunia\n",
      "Processing Record 546 | port blair\n",
      "City not found. Skipping...\n",
      "Processing Record 547 | beidao\n",
      "Processing Record 548 | valer\n",
      "Processing Record 549 | roseburg\n",
      "Processing Record 550 | maniitsoq\n",
      "Processing Record 551 | greytown\n",
      "Processing Record 552 | maiduguri\n",
      "Processing Record 553 | samur\n",
      "Processing Record 554 | manica\n",
      "City not found. Skipping...\n",
      "Processing Record 555 | libreville\n",
      "Processing Record 556 | keuruu\n",
      "Processing Record 557 | houston\n",
      "Processing Record 558 | flinders\n",
      "Processing Record 559 | panaba\n",
      "Processing Record 560 | the pas\n",
      "City not found. Skipping...\n",
      "Processing Record 561 | shieli\n",
      "--------------------------\n",
      "Data Retrieval Complete\n",
      "--------------------------\n"
     ]
    }
   ],
   "source": [
    "#get url\n",
    "url = \"http://api.openweathermap.org/data/2.5/weather?\"\n",
    "units = \"imperial\"\n",
    "\n",
    "#build query url\n",
    "query_url = f\"{url}appid={api_key}&units={units}&q=\"\n",
    "\n",
    "#empty lists\n",
    "max_temp = []\n",
    "humidity = []\n",
    "cloudiness = []\n",
    "wind_speed = []\n",
    "lat = []\n",
    "lng = []\n",
    "city_name = []\n",
    "country = []\n",
    "date = []\n",
    "\n",
    "#loop through cities - request for data\n",
    "print(f\"Beginning Data Retrieval\")\n",
    "print(\"--------------------------\")\n",
    "i = 1\n",
    "for city in cities:\n",
    "    response_json = requests.get(query_url + city).json()\n",
    "#append using empty lists\n",
    "    try:\n",
    "        max_temp.append(response_json['main']['temp_max'])\n",
    "        humidity.append(response_json['main']['humidity'])\n",
    "        cloudiness.append(response_json['clouds']['all'])\n",
    "        wind_speed.append(response_json['wind']['speed'])\n",
    "        lat.append(response_json['coord']['lat'])\n",
    "        lng.append(response_json['coord']['lon'])\n",
    "        city_name.append(response_json['name'])\n",
    "        country.append(response_json['sys']['country'])\n",
    "        date.append(response_json['dt'])\n",
    "\n",
    "        print(f\"Processing Record {i} | {city}\")\n",
    "        i+=1\n",
    "    except (KeyError):\n",
    "        print(\"City not found. Skipping...\")\n",
    "print(\"--------------------------\")\n",
    "print(\"Data Retrieval Complete\")\n",
    "print(\"--------------------------\")\n"
   ]
  },
  {
   "cell_type": "markdown",
   "metadata": {},
   "source": [
    "### Convert Raw Data to DataFrame\n",
    "* Export the city data into a .csv.\n",
    "* Display the DataFrame"
   ]
  },
  {
   "cell_type": "code",
   "execution_count": 51,
   "metadata": {},
   "outputs": [
    {
     "data": {
      "text/html": [
       "<div>\n",
       "<style scoped>\n",
       "    .dataframe tbody tr th:only-of-type {\n",
       "        vertical-align: middle;\n",
       "    }\n",
       "\n",
       "    .dataframe tbody tr th {\n",
       "        vertical-align: top;\n",
       "    }\n",
       "\n",
       "    .dataframe thead th {\n",
       "        text-align: right;\n",
       "    }\n",
       "</style>\n",
       "<table border=\"1\" class=\"dataframe\">\n",
       "  <thead>\n",
       "    <tr style=\"text-align: right;\">\n",
       "      <th></th>\n",
       "      <th>City</th>\n",
       "      <th>Lat</th>\n",
       "      <th>Lng</th>\n",
       "      <th>Max Temp</th>\n",
       "      <th>Humidity</th>\n",
       "      <th>Cloudiness</th>\n",
       "      <th>Wind Speed</th>\n",
       "      <th>Date</th>\n",
       "    </tr>\n",
       "  </thead>\n",
       "  <tbody>\n",
       "    <tr>\n",
       "      <th>0</th>\n",
       "      <td>Morris</td>\n",
       "      <td>40.8334</td>\n",
       "      <td>-74.5329</td>\n",
       "      <td>50.09</td>\n",
       "      <td>83</td>\n",
       "      <td>90</td>\n",
       "      <td>1.01</td>\n",
       "      <td>1634993719</td>\n",
       "    </tr>\n",
       "    <tr>\n",
       "      <th>1</th>\n",
       "      <td>Jumla</td>\n",
       "      <td>29.2747</td>\n",
       "      <td>82.1838</td>\n",
       "      <td>51.40</td>\n",
       "      <td>90</td>\n",
       "      <td>5</td>\n",
       "      <td>3.62</td>\n",
       "      <td>1634994013</td>\n",
       "    </tr>\n",
       "    <tr>\n",
       "      <th>2</th>\n",
       "      <td>Brae</td>\n",
       "      <td>60.3964</td>\n",
       "      <td>-1.3530</td>\n",
       "      <td>51.71</td>\n",
       "      <td>87</td>\n",
       "      <td>100</td>\n",
       "      <td>25.17</td>\n",
       "      <td>1634993610</td>\n",
       "    </tr>\n",
       "    <tr>\n",
       "      <th>3</th>\n",
       "      <td>Beloha</td>\n",
       "      <td>-25.1667</td>\n",
       "      <td>45.0500</td>\n",
       "      <td>86.49</td>\n",
       "      <td>36</td>\n",
       "      <td>49</td>\n",
       "      <td>14.88</td>\n",
       "      <td>1634994015</td>\n",
       "    </tr>\n",
       "    <tr>\n",
       "      <th>4</th>\n",
       "      <td>Kiama</td>\n",
       "      <td>-34.6833</td>\n",
       "      <td>150.8667</td>\n",
       "      <td>65.68</td>\n",
       "      <td>99</td>\n",
       "      <td>82</td>\n",
       "      <td>6.89</td>\n",
       "      <td>1634993538</td>\n",
       "    </tr>\n",
       "  </tbody>\n",
       "</table>\n",
       "</div>"
      ],
      "text/plain": [
       "     City      Lat       Lng  Max Temp  Humidity  Cloudiness  Wind Speed  \\\n",
       "0  Morris  40.8334  -74.5329     50.09        83          90        1.01   \n",
       "1   Jumla  29.2747   82.1838     51.40        90           5        3.62   \n",
       "2    Brae  60.3964   -1.3530     51.71        87         100       25.17   \n",
       "3  Beloha -25.1667   45.0500     86.49        36          49       14.88   \n",
       "4   Kiama -34.6833  150.8667     65.68        99          82        6.89   \n",
       "\n",
       "         Date  \n",
       "0  1634993719  \n",
       "1  1634994013  \n",
       "2  1634993610  \n",
       "3  1634994015  \n",
       "4  1634993538  "
      ]
     },
     "execution_count": 51,
     "metadata": {},
     "output_type": "execute_result"
    }
   ],
   "source": [
    "#create dataframe\n",
    "weather_df = pd.DataFrame({\n",
    "    \"City\": city_name,\n",
    "    \"Lat\": lat,\n",
    "    \"Lng\": lng,\n",
    "    \"Max Temp\": max_temp,\n",
    "    \"Humidity\": humidity,\n",
    "    \"Cloudiness\": cloudiness,\n",
    "    \"Wind Speed\": wind_speed,\n",
    "    \"Date\": date\n",
    "})\n",
    "\n",
    "weather_df.head()"
   ]
  },
  {
   "cell_type": "code",
   "execution_count": 52,
   "metadata": {},
   "outputs": [],
   "source": [
    "# Export to .csv file\n",
    "weather_df.to_csv(\"../output_data/cities.csv\", index=False)"
   ]
  },
  {
   "cell_type": "markdown",
   "metadata": {},
   "source": [
    "## Inspect the data and remove the cities where the humidity > 100%.\n",
    "----\n",
    "Skip this step if there are no cities that have humidity > 100%. "
   ]
  },
  {
   "cell_type": "markdown",
   "metadata": {},
   "source": [
    "## Plotting the Data\n",
    "* Use proper labeling of the plots using plot titles (including date of analysis) and axes labels.\n",
    "* Save the plotted figures as .pngs."
   ]
  },
  {
   "cell_type": "markdown",
   "metadata": {},
   "source": [
    "## Latitude vs. Temperature Plot"
   ]
  },
  {
   "cell_type": "code",
   "execution_count": 53,
   "metadata": {
    "scrolled": false
   },
   "outputs": [
    {
     "data": {
      "image/png": "[encoded data removed]",
      "text/plain": [
       "<Figure size 432x288 with 1 Axes>"
      ]
     },
     "metadata": {
      "needs_background": "light"
     },
     "output_type": "display_data"
    }
   ],
   "source": [
    "#define values\n",
    "x_values = weather_df['Lat']\n",
    "y_values = weather_df ['Max Temp']\n",
    "\n",
    "#create scatter plot\n",
    "plt.scatter(x_values,y_values)\n",
    "plt.title('City Latitude vs. Max Temperature (10/23/2021)')\n",
    "plt.xlabel('Latitude')\n",
    "plt.ylabel('Temperature (F)')\n",
    "plt.ylim(0,100)\n",
    "plt.xlim(-60,80)\n",
    "plt.grid(True)\n",
    "\n",
    "#save as png\n",
    "plt.savefig('Images/lat_temp.png')\n",
    "\n",
    "plt.show()"
   ]
  },
  {
   "cell_type": "markdown",
   "metadata": {},
   "source": [
    "The latitude vs. Max Temperature scatter plot is showing a relationship between geographic location and temperature. According to this data, as the latitude reaches closer to 0, the temperature increases. "
   ]
  },
  {
   "cell_type": "markdown",
   "metadata": {},
   "source": [
    "## Latitude vs. Humidity Plot"
   ]
  },
  {
   "cell_type": "code",
   "execution_count": 54,
   "metadata": {},
   "outputs": [
    {
     "data": {
      "image/png": "[encoded data removed]",
      "text/plain": [
       "<Figure size 432x288 with 1 Axes>"
      ]
     },
     "metadata": {
      "needs_background": "light"
     },
     "output_type": "display_data"
    }
   ],
   "source": [
    "#define values\n",
    "x_values = weather_df['Lat']\n",
    "y_values = weather_df ['Humidity']\n",
    "\n",
    "#create scatter plot\n",
    "plt.scatter(x_values,y_values)\n",
    "plt.title('City Latitude vs. Humidity (10/23/2021)')\n",
    "plt.xlabel('Latitude')\n",
    "plt.ylabel('Humidity (%)')\n",
    "plt.ylim(0,100)\n",
    "plt.xlim(-60,80)\n",
    "plt.grid(True)\n",
    "#save as png\n",
    "plt.savefig('Images/lat_humidity.png')\n",
    "plt.show()"
   ]
  },
  {
   "cell_type": "markdown",
   "metadata": {},
   "source": [
    "The latitude vs. Humidity scatter plot is detailing the relationship between geographic location and humidity. According to this data, there does not appear to be a correlation between latitude and humidity. "
   ]
  },
  {
   "cell_type": "markdown",
   "metadata": {},
   "source": [
    "## Latitude vs. Cloudiness Plot"
   ]
  },
  {
   "cell_type": "code",
   "execution_count": 55,
   "metadata": {},
   "outputs": [
    {
     "data": {
      "image/png": "[encoded data removed]",
      "text/plain": [
       "<Figure size 432x288 with 1 Axes>"
      ]
     },
     "metadata": {
      "needs_background": "light"
     },
     "output_type": "display_data"
    }
   ],
   "source": [
    "#define values\n",
    "x_values = weather_df['Lat']\n",
    "y_values = weather_df ['Cloudiness']\n",
    "\n",
    "#create scatter plot\n",
    "plt.scatter(x_values,y_values)\n",
    "plt.title('City Latitude vs. Cloudiness (10/23/2021)')\n",
    "plt.xlabel('Latitude')\n",
    "plt.ylabel('Cloudiness (%)')\n",
    "plt.ylim(0,100)\n",
    "plt.xlim(-60,80)\n",
    "plt.grid(True)\n",
    "\n",
    "#save as png\n",
    "plt.savefig('Images/lat_cloud.png')\n",
    "\n",
    "plt.show()"
   ]
  },
  {
   "cell_type": "markdown",
   "metadata": {},
   "source": [
    "The latitude vs. cloudiness scatter plot shows the relationship betweeen the geographic location and the amount of cloudiness. According to this data, there does not appear to be a straightforward correlation between the two."
   ]
  },
  {
   "cell_type": "markdown",
   "metadata": {},
   "source": [
    "## Latitude vs. Wind Speed Plot"
   ]
  },
  {
   "cell_type": "code",
   "execution_count": 56,
   "metadata": {},
   "outputs": [
    {
     "data": {
      "image/png": "[encoded data removed]",
      "text/plain": [
       "<Figure size 432x288 with 1 Axes>"
      ]
     },
     "metadata": {
      "needs_background": "light"
     },
     "output_type": "display_data"
    }
   ],
   "source": [
    "#define values\n",
    "x_values = weather_df['Lat']\n",
    "y_values = weather_df ['Wind Speed']\n",
    "\n",
    "#create scatter plot\n",
    "plt.scatter(x_values,y_values)\n",
    "plt.title('City Latitude vs. Wind Speed (10/23/2021)')\n",
    "plt.xlabel('Latitude')\n",
    "plt.ylabel('Wind Speed (mph)')\n",
    "plt.ylim(0,40)\n",
    "plt.xlim(-60,80)\n",
    "plt.grid(True)\n",
    "\n",
    "#save as png\n",
    "plt.savefig('Images/lat_wind.png')\n",
    "plt.show()"
   ]
  },
  {
   "cell_type": "markdown",
   "metadata": {},
   "source": [
    "The latitude vs. wind speed scatter plot shows the relationship betweeen the geographic location and the miles per hour wind speed. According to this data, the further away from 0 in Latitude, the higher the wind speeds. "
   ]
  },
  {
   "cell_type": "markdown",
   "metadata": {},
   "source": [
    "## Linear Regression"
   ]
  },
  {
   "cell_type": "code",
   "execution_count": 74,
   "metadata": {},
   "outputs": [],
   "source": [
    "def linear_reg_plot(x_values,y_values):\n",
    "    (slope, intercept, rvalue, pvalue, stderr) = stats.linregress(x_values, y_values)\n",
    "    regress_values = x_values * slope + intercept\n",
    " # Create line equation string\n",
    "    line_eq = \"y = \" + str(round(slope,2)) + \"x +\" + str(round(intercept,2))\n",
    " # Create Plot\n",
    "    plt.scatter(x_values,y_values)\n",
    "    plt.plot(x_values,regress_values,\"r-\")\n",
    "    plt.annotate(line_eq,(x_values.median(),y_values.median()),fontsize=15,color='red')\n",
    "\n",
    "# Label plot and annotate the line equation\n",
    "    plt.xlabel('Latitude')\n",
    "    print(f'The r-value is:{rvalue}')\n",
    "    plt.show()\n",
    "\n",
    "\n"
   ]
  },
  {
   "cell_type": "code",
   "execution_count": 75,
   "metadata": {},
   "outputs": [],
   "source": [
    "#Create Northern and Southern Hemisphere dataframes\n",
    "Northern_Hemisphere = weather_df.loc[weather_df[\"Lat\"]>0]\n",
    "Southern_Hemisphere = weather_df.loc[weather_df[\"Lat\"]<0]\n"
   ]
  },
  {
   "cell_type": "markdown",
   "metadata": {},
   "source": [
    "####  Northern Hemisphere - Max Temp vs. Latitude Linear Regression"
   ]
  },
  {
   "cell_type": "code",
   "execution_count": 76,
   "metadata": {},
   "outputs": [
    {
     "name": "stdout",
     "output_type": "stream",
     "text": [
      "The r-value is:-0.8773195291149489\n"
     ]
    },
    {
     "data": {
      "image/png": "[encoded data removed]",
      "text/plain": [
       "<Figure size 432x288 with 1 Axes>"
      ]
     },
     "metadata": {
      "needs_background": "light"
     },
     "output_type": "display_data"
    },
    {
     "name": "stdout",
     "output_type": "stream",
     "text": [
      "None\n"
     ]
    }
   ],
   "source": [
    "#define values for plot\n",
    "x_values = Northern_Hemisphere[\"Lat\"]\n",
    "y_values = Northern_Hemisphere[\"Max Temp\"]\n",
    "plt.ylabel(\"Max Temp\")\n",
    "print(linear_reg_plot(x_values,y_values))"
   ]
  },
  {
   "cell_type": "markdown",
   "metadata": {},
   "source": [
    "The northern hemisphere plot and linear regression model shows an inverse relationship between temperature and latitude. The closer to 0, the higher the temperature. "
   ]
  },
  {
   "cell_type": "markdown",
   "metadata": {},
   "source": [
    "####  Southern Hemisphere - Max Temp vs. Latitude Linear Regression"
   ]
  },
  {
   "cell_type": "code",
   "execution_count": 77,
   "metadata": {},
   "outputs": [
    {
     "name": "stdout",
     "output_type": "stream",
     "text": [
      "The r-value is:0.7505443947710592\n"
     ]
    },
    {
     "data": {
      "image/png": "[encoded data removed]",
      "text/plain": [
       "<Figure size 432x288 with 1 Axes>"
      ]
     },
     "metadata": {
      "needs_background": "light"
     },
     "output_type": "display_data"
    },
    {
     "name": "stdout",
     "output_type": "stream",
     "text": [
      "None\n"
     ]
    }
   ],
   "source": [
    "x_values = Southern_Hemisphere[\"Lat\"]\n",
    "y_values = Southern_Hemisphere[\"Max Temp\"]\n",
    "plt.ylabel(\"Max Temp\")\n",
    "print(linear_reg_plot(x_values,y_values))"
   ]
  },
  {
   "cell_type": "markdown",
   "metadata": {},
   "source": [
    "The southern hemisphere plot and linear regression model shows an inverse relationship between temperature and latitude. The closer to 0, the higher the temperature. "
   ]
  },
  {
   "cell_type": "markdown",
   "metadata": {},
   "source": [
    "####  Northern Hemisphere - Humidity (%) vs. Latitude Linear Regression"
   ]
  },
  {
   "cell_type": "code",
   "execution_count": 82,
   "metadata": {},
   "outputs": [
    {
     "name": "stdout",
     "output_type": "stream",
     "text": [
      "The r-value is:0.27822947238212814\n"
     ]
    },
    {
     "data": {
      "image/png": "[encoded data removed]",
      "text/plain": [
       "<Figure size 432x288 with 1 Axes>"
      ]
     },
     "metadata": {
      "needs_background": "light"
     },
     "output_type": "display_data"
    },
    {
     "name": "stdout",
     "output_type": "stream",
     "text": [
      "None\n"
     ]
    }
   ],
   "source": [
    "x_values = Northern_Hemisphere[\"Lat\"]\n",
    "y_values = Northern_Hemisphere[\"Humidity\"]\n",
    "plt.ylabel(\"Humidity (%)\")\n",
    "print(linear_reg_plot(x_values,y_values))"
   ]
  },
  {
   "cell_type": "markdown",
   "metadata": {},
   "source": [
    "The northern hemisphere data is displaying a positive correlation between humidity and latitude although it is not the strongeest correlation. "
   ]
  },
  {
   "cell_type": "markdown",
   "metadata": {},
   "source": [
    "####  Southern Hemisphere - Humidity (%) vs. Latitude Linear Regression"
   ]
  },
  {
   "cell_type": "code",
   "execution_count": 81,
   "metadata": {},
   "outputs": [
    {
     "name": "stdout",
     "output_type": "stream",
     "text": [
      "The r-value is:0.01195560978960227\n"
     ]
    },
    {
     "data": {
      "image/png": "[encoded data removed]",
      "text/plain": [
       "<Figure size 432x288 with 1 Axes>"
      ]
     },
     "metadata": {
      "needs_background": "light"
     },
     "output_type": "display_data"
    },
    {
     "name": "stdout",
     "output_type": "stream",
     "text": [
      "None\n"
     ]
    }
   ],
   "source": [
    "x_values = Southern_Hemisphere[\"Lat\"]\n",
    "y_values = Southern_Hemisphere[\"Humidity\"]\n",
    "plt.ylabel(\"Humidity (%)\")\n",
    "print(linear_reg_plot(x_values,y_values))"
   ]
  },
  {
   "cell_type": "markdown",
   "metadata": {},
   "source": [
    "There does not appear to be a strong correlation between humidity and latitude at the Southern Hemisphere"
   ]
  },
  {
   "cell_type": "markdown",
   "metadata": {},
   "source": [
    "####  Northern Hemisphere - Cloudiness (%) vs. Latitude Linear Regression"
   ]
  },
  {
   "cell_type": "code",
   "execution_count": 83,
   "metadata": {},
   "outputs": [
    {
     "name": "stdout",
     "output_type": "stream",
     "text": [
      "The r-value is:0.22448267201768685\n"
     ]
    },
    {
     "data": {
      "image/png": "[encoded data removed]",
      "text/plain": [
       "<Figure size 432x288 with 1 Axes>"
      ]
     },
     "metadata": {
      "needs_background": "light"
     },
     "output_type": "display_data"
    },
    {
     "name": "stdout",
     "output_type": "stream",
     "text": [
      "None\n"
     ]
    }
   ],
   "source": [
    "x_values = Northern_Hemisphere[\"Lat\"]\n",
    "y_values = Northern_Hemisphere[\"Cloudiness\"]\n",
    "plt.ylabel(\"Cloudiness\")\n",
    "print(linear_reg_plot(x_values,y_values))"
   ]
  },
  {
   "cell_type": "markdown",
   "metadata": {},
   "source": [
    "In the northern hemisphere, there does not appear to be a correlation just by looking at the scatter plot alone, but the linear regression is showing a positive correlation between cloudiness and latitude."
   ]
  },
  {
   "cell_type": "markdown",
   "metadata": {},
   "source": [
    "####  Southern Hemisphere - Cloudiness (%) vs. Latitude Linear Regression"
   ]
  },
  {
   "cell_type": "code",
   "execution_count": 84,
   "metadata": {},
   "outputs": [
    {
     "name": "stdout",
     "output_type": "stream",
     "text": [
      "The r-value is:0.18177958798856336\n"
     ]
    },
    {
     "data": {
      "image/png": "[encoded data removed]",
      "text/plain": [
       "<Figure size 432x288 with 1 Axes>"
      ]
     },
     "metadata": {
      "needs_background": "light"
     },
     "output_type": "display_data"
    },
    {
     "name": "stdout",
     "output_type": "stream",
     "text": [
      "None\n"
     ]
    }
   ],
   "source": [
    "x_values = Southern_Hemisphere[\"Lat\"]\n",
    "y_values = Southern_Hemisphere[\"Cloudiness\"]\n",
    "plt.ylabel(\"Cloudiness\")\n",
    "print(linear_reg_plot(x_values,y_values))"
   ]
  },
  {
   "cell_type": "markdown",
   "metadata": {},
   "source": [
    "In the northern hemisphere, there does not appear to be a correlation just by looking at the scatter plot alone, but the linear regression is showing a negative correlation between cloudiness and latitude."
   ]
  },
  {
   "cell_type": "markdown",
   "metadata": {},
   "source": [
    "####  Northern Hemisphere - Wind Speed (mph) vs. Latitude Linear Regression"
   ]
  },
  {
   "cell_type": "code",
   "execution_count": 85,
   "metadata": {},
   "outputs": [
    {
     "name": "stdout",
     "output_type": "stream",
     "text": [
      "The r-value is:0.11246726792991016\n"
     ]
    },
    {
     "data": {
      "image/png": "[encoded data removed]",
      "text/plain": [
       "<Figure size 432x288 with 1 Axes>"
      ]
     },
     "metadata": {
      "needs_background": "light"
     },
     "output_type": "display_data"
    },
    {
     "name": "stdout",
     "output_type": "stream",
     "text": [
      "None\n"
     ]
    }
   ],
   "source": [
    "x_values = Northern_Hemisphere[\"Lat\"]\n",
    "y_values = Northern_Hemisphere[\"Wind Speed\"]\n",
    "plt.ylabel(\"Wind Speed\")\n",
    "print(linear_reg_plot(x_values,y_values))"
   ]
  },
  {
   "cell_type": "markdown",
   "metadata": {},
   "source": [
    "There does not appear to be a very strong correlation between wind speed and latitude in the northern hemisphere. Maybe slightly positive, as the wind speed increases as we get farther from 0"
   ]
  },
  {
   "cell_type": "markdown",
   "metadata": {},
   "source": [
    "####  Southern Hemisphere - Wind Speed (mph) vs. Latitude Linear Regression"
   ]
  },
  {
   "cell_type": "code",
   "execution_count": 86,
   "metadata": {},
   "outputs": [
    {
     "name": "stdout",
     "output_type": "stream",
     "text": [
      "The r-value is:-0.3617628166044791\n"
     ]
    },
    {
     "data": {
      "image/png": "[encoded data removed]",
      "text/plain": [
       "<Figure size 432x288 with 1 Axes>"
      ]
     },
     "metadata": {
      "needs_background": "light"
     },
     "output_type": "display_data"
    },
    {
     "name": "stdout",
     "output_type": "stream",
     "text": [
      "None\n"
     ]
    }
   ],
   "source": [
    "x_values = Southern_Hemisphere[\"Lat\"]\n",
    "y_values = Southern_Hemisphere[\"Wind Speed\"]\n",
    "plt.ylabel(\"Wind Speed\")\n",
    "print(linear_reg_plot(x_values,y_values))"
   ]
  },
  {
   "cell_type": "markdown",
   "metadata": {},
   "source": [
    "The correlation between wind speed and latitude in the Southern Hemisphere is showing a stronger positive correlation than in the northern hemisphere. It appears that the wind speed increases as we get further away from 0. "
   ]
  }
 ],
 "metadata": {
  "anaconda-cloud": {},
  "kernel_info": {
   "name": "python3"
  },
  "kernelspec": {
   "display_name": "Python 3",
   "language": "python",
   "name": "python3"
  },
  "language_info": {
   "codemirror_mode": {
    "name": "ipython",
    "version": 3
   },
   "file_extension": ".py",
   "mimetype": "text/x-python",
   "name": "python",
   "nbconvert_exporter": "python",
   "pygments_lexer": "ipython3",
   "version": "3.8.8"
  },
  "latex_envs": {
   "LaTeX_envs_menu_present": true,
   "autoclose": false,
   "autocomplete": true,
   "bibliofile": "biblio.bib",
   "cite_by": "apalike",
   "current_citInitial": 1,
   "eqLabelWithNumbers": true,
   "eqNumInitial": 1,
   "hotkeys": {
    "equation": "Ctrl-E",
    "itemize": "Ctrl-I"
   },
   "labels_anchors": false,
   "latex_user_defs": false,
   "report_style_numbering": false,
   "user_envs_cfg": false
  },
  "nteract": {
   "version": "0.12.3"
  }
 },
 "nbformat": 4,
 "nbformat_minor": 2
}
